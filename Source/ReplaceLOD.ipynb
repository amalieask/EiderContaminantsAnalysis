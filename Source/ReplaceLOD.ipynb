{
 "cells": [
  {
   "cell_type": "markdown",
   "id": "91d47efa-e300-4973-b285-110191a440ee",
   "metadata": {},
   "source": [
    "# Replace entries below LOD - plasma samples eider 2021 CECs"
   ]
  },
  {
   "cell_type": "markdown",
   "id": "e0bf8366-c9e4-4343-9fe4-6a242491f6c0",
   "metadata": {},
   "source": [
    "Read in the Excel file, check how many samples are above LOD (limit of detection) per compound, and replace \"lod\" with 1/2LOD."
   ]
  },
  {
   "cell_type": "code",
   "execution_count": null,
   "id": "9ca8b2f8-c56a-4b2b-8937-614b909c980e",
   "metadata": {},
   "outputs": [],
   "source": [
    "# Import required packages\n",
    "import pandas as pd"
   ]
  },
  {
   "cell_type": "markdown",
   "id": "771d0145-f2d3-4061-bfa5-b5fc728f3a05",
   "metadata": {},
   "source": [
    "## Read in files, set LOD percentage, LOD values"
   ]
  },
  {
   "cell_type": "code",
   "execution_count": null,
   "id": "e63930e0-88db-4223-9c7b-3021ee64bfe3",
   "metadata": {},
   "outputs": [],
   "source": [
    "# Read in dataset\n",
    "allCECs = pd.read_excel('Appropriate file path to Excel file with dataset')\n",
    "\n",
    "# Read in the list of compounds\n",
    "compoundList = pd.read_excel('Appropriate file path to Excel file with dataset', sheet_name = \"compoundList\")\n",
    "compoundList = pd.unique(compoundList[\"compoundList\"])"
   ]
  },
  {
   "cell_type": "code",
   "execution_count": null,
   "id": "0bd2dea3-c123-49d2-bd22-a23a2acc95f4",
   "metadata": {},
   "outputs": [],
   "source": [
    "# Create new df with NaNs replaced with -1 (necessary to do as there are varying number of NaNs for each compound/group \n",
    "# and math.isnan doesn't accept strings as input):\n",
    "allCECsNoNA = allCECs.fillna(-1)"
   ]
  },
  {
   "cell_type": "code",
   "execution_count": null,
   "id": "f944b1aa-938b-4c79-b107-80d05d1278f0",
   "metadata": {},
   "outputs": [],
   "source": [
    "# Set the percentage LOD cut-off:\n",
    "percentLOD = 60"
   ]
  },
  {
   "cell_type": "code",
   "execution_count": null,
   "id": "ae1c206c-d46d-4e09-b16d-5343ba2ec3f0",
   "metadata": {},
   "outputs": [],
   "source": [
    "# LOD values:\n",
    "\n",
    "lodTTR = 0.606\n",
    "lod2OHBTH = 0.602\n",
    "lod2SBTH = 0.288\n",
    "lod2MeSBTH = 0.286\n",
    "lod2SCNMeSBTH = 0.051\n",
    "\n",
    "lodBzP1 = 0.661\n",
    "lodBzP3 = 0.873\n",
    "\n",
    "lodBPA = 6.21\n",
    "lodBPS = 0.063\n",
    "lodBPAF = 0.019\n",
    "\n",
    "lodMeP = 0.210\n",
    "lodEtP = 0.027\n",
    "lodPrP = 0.010\n",
    "lodBuP = 0.011\n",
    "lodBezP = 0.056\n",
    "\n",
    "lodmDP = 1.33\n",
    "lodmIBP = 1.81\n",
    "lodmBP = 3.61\n",
    "lodmHP = 0.451\n",
    "lodmEHP = 10.1\n",
    "lodmMP = 1.794\n",
    "lodmEP = 2.082"
   ]
  },
  {
   "cell_type": "markdown",
   "id": "11c920ce-67c2-4a28-8ea2-7cdcd0d5287b",
   "metadata": {},
   "source": [
    "## Divide into comparison groups"
   ]
  },
  {
   "cell_type": "code",
   "execution_count": null,
   "id": "faf72866-11e3-471c-a851-68f9eb2f754f",
   "metadata": {},
   "outputs": [],
   "source": [
    "# Set the dataframe to use\n",
    "df = allCECsNoNA\n",
    "\n",
    "# Early incubation, early & late breeding period\n",
    "earlyInc = df[(df.Incubation == 'early') & (df.BreedingPeriod != 'mid')].reset_index(drop=True)\n",
    "\n",
    "# Late incubation, early & late breeding period\n",
    "lateInc = df[(df.Incubation == 'late') & (df.BreedingPeriod != 'mid')].reset_index(drop=True)\n",
    "\n",
    "# Early incubation, early breeding period\n",
    "earlyIncEarlyBP = df[(df.Incubation == 'early') & (df.BreedingPeriod == 'early')].reset_index(drop=True)\n",
    "\n",
    "# Early incubation, late breeding period\n",
    "earlyIncLateBP = df[(df.Incubation == 'early') & (df.BreedingPeriod == 'late')].reset_index(drop=True)\n",
    "\n",
    "# Late incubation, early breeding period\n",
    "lateIncEarlyBP = df[(df.Incubation == 'late') & (df.BreedingPeriod == 'early')].reset_index(drop=True)\n",
    "\n",
    "# Late incubation, late breeding period\n",
    "lateIncLateBP = df[(df.Incubation == 'late') & (df.BreedingPeriod == 'late')].reset_index(drop=True)"
   ]
  },
  {
   "cell_type": "code",
   "execution_count": null,
   "id": "098fc471-5870-4bf3-81dd-6c013943d0a3",
   "metadata": {},
   "outputs": [],
   "source": [
    "# List of groups:\n",
    "groups = [earlyIncEarlyBP, earlyIncLateBP, lateIncEarlyBP, lateIncLateBP]"
   ]
  },
  {
   "cell_type": "markdown",
   "id": "5ff3d482-92e4-4cce-9462-bd4732a2bbf3",
   "metadata": {},
   "source": [
    "## Check percentage of samples above LOD"
   ]
  },
  {
   "cell_type": "markdown",
   "id": "14bcdd55-420a-4056-851b-93b5e92ad2d8",
   "metadata": {},
   "source": [
    "Use the function below to determine which compounds are tested for differences in concentration between early and late incubation and between early and late breeders. "
   ]
  },
  {
   "cell_type": "code",
   "execution_count": null,
   "id": "c7a927cf-70df-4bd0-840c-1610cd1b438c",
   "metadata": {},
   "outputs": [],
   "source": [
    "# Function calculating the percent of samples above LOD for a given data set:\n",
    "\n",
    "def aboveLOD(compoundList, dataSet):\n",
    "    overThreshold = []\n",
    "    for compound in compoundList:\n",
    "        count = 0\n",
    "        countNA = 0\n",
    "        for sample in dataSet[compound]:\n",
    "            if (sample == -1):\n",
    "                countNA += 1\n",
    "        validLength = len(dataSet) - countNA\n",
    "        threshold = (validLength/100)*percentLOD \n",
    "        for sample in range(len(dataSet)):\n",
    "            if (type(dataSet.at[sample, compound]) == float):\n",
    "                count += 1\n",
    "        if (count >= threshold):\n",
    "            overThreshold.append(compound)\n",
    "    print(overThreshold)"
   ]
  },
  {
   "cell_type": "code",
   "execution_count": null,
   "id": "4330486a-5e9b-4732-a677-1e05353dd060",
   "metadata": {},
   "outputs": [],
   "source": [
    "for group in groups:\n",
    "    name =[x for x in globals() if globals()[x] is group][0]\n",
    "    print(\"For dataset\", name, \"the following compounds are equal to or above\", percentLOD, \"%:\")\n",
    "    aboveLOD(compoundList, group)"
   ]
  },
  {
   "cell_type": "markdown",
   "id": "9be77663-a209-47fa-8df0-757c3509dfcc",
   "metadata": {},
   "source": [
    "## Replace LOD with 1/2 LOD"
   ]
  },
  {
   "cell_type": "code",
   "execution_count": null,
   "id": "cd38bb54-779e-4a08-b3c1-af2b3449c2f5",
   "metadata": {},
   "outputs": [],
   "source": [
    "# Replace observations below LOD with 1/2 LOD\n",
    "\n",
    "# BTRs and BTHs\n",
    "allCECs.loc[allCECs[\"TTR\"] == \"lod\", \"TTR\"] = (lodTTR/2)\n",
    "allCECs.loc[allCECs[\"2OHBTH\"] == \"lod\", \"2OHBTH\"] = (lod2OHBTH/2)\n",
    "allCECs.loc[allCECs[\"2SBTH\"] == \"lod\", \"2SBTH\"] = (lod2SBTH/2)\n",
    "allCECs.loc[allCECs[\"2MeSBTH\"] == \"lod\", \"2MeSBTH\"] = (lod2MeSBTH/2)\n",
    "allCECs.loc[allCECs[\"2SCNMeSBTH\"] == \"lod\", \"2SCNMeSBTH\"] = (lod2SCNMeSBTH/2)\n",
    "\n",
    "# BzPs and BPAs\n",
    "allCECs.loc[allCECs[\"BzP1\"] == \"lod\", \"BzP1\"] = (lodBzP1/2)\n",
    "allCECs.loc[allCECs[\"BzP3\"] == \"lod\", \"BzP3\"] = (lodBzP3/2)\n",
    "allCECs.loc[allCECs[\"BPA\"] == \"lod\", \"BPA\"] = (lodBPA/2)\n",
    "allCECs.loc[allCECs[\"BPS\"] == \"lod\", \"BPS\"] = (lodBPS/2)\n",
    "allCECs.loc[allCECs[\"BPAF\"] == \"lod\", \"BPAF\"] = (lodBPAF/2)\n",
    "\n",
    "# Parabens\n",
    "allCECs.loc[allCECs[\"MeP\"] == \"lod\", \"MeP\"] = (lodMeP/2)\n",
    "allCECs.loc[allCECs[\"EtP\"] == \"lod\", \"EtP\"] = (lodEtP/2)\n",
    "allCECs.loc[allCECs[\"PrP\"] == \"lod\", \"PrP\"] = (lodPrP/2)\n",
    "allCECs.loc[allCECs[\"BuP\"] == \"lod\", \"BuP\"] = (lodBuP/2)\n",
    "allCECs.loc[allCECs[\"BezP\"] == \"lod\", \"BezP\"] = (lodBezP/2)\n",
    "\n",
    "# Phthalate metabolites\n",
    "allCECs.loc[allCECs[\"mDP\"] == \"lod\", \"mDP\"] = (lodmDP/2)\n",
    "allCECs.loc[allCECs[\"mIBP\"] == \"lod\", \"mIBP\"] = (lodmIBP/2)\n",
    "allCECs.loc[allCECs[\"mBP\"] == \"lod\", \"mBP\"] = (lodmBP/2)\n",
    "allCECs.loc[allCECs[\"mHP\"] == \"lod\", \"mHP\"] = (lodmHP/2)\n",
    "allCECs.loc[allCECs[\"mEHP\"] == \"lod\", \"mEHP\"] = (lodmEHP/2)\n",
    "allCECs.loc[allCECs[\"mMP\"] == \"lod\", \"mMP\"] = (lodmMP/2)\n",
    "allCECs.loc[allCECs[\"mEP\"] == \"lod\", \"mEP\"] = (lodmEP/2)"
   ]
  },
  {
   "cell_type": "markdown",
   "id": "34d1f1c9-2420-4529-a991-6fa037da6628",
   "metadata": {},
   "source": [
    "## Write dataframe with LODs substituted to CSV file"
   ]
  },
  {
   "cell_type": "code",
   "execution_count": null,
   "id": "66742a6c-74cd-4302-8423-4d21def95274",
   "metadata": {},
   "outputs": [],
   "source": [
    "# Write dataframe to csv file (named plasmaEiderNTNU2021WithLODs.csv)\n",
    "\n",
    "allCECs.to_csv('Appropriate file path/plasmaEiderNTNU2021WithLODs.csv')"
   ]
  }
 ],
 "metadata": {
  "kernelspec": {
   "display_name": "Python 3 (ipykernel)",
   "language": "python",
   "name": "python3"
  },
  "language_info": {
   "codemirror_mode": {
    "name": "ipython",
    "version": 3
   },
   "file_extension": ".py",
   "mimetype": "text/x-python",
   "name": "python",
   "nbconvert_exporter": "python",
   "pygments_lexer": "ipython3",
   "version": "3.9.12"
  }
 },
 "nbformat": 4,
 "nbformat_minor": 5
}
