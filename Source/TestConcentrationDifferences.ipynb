{
 "cells": [
  {
   "cell_type": "markdown",
   "id": "ecdefc21-8e8f-4af3-9681-0ffb8beda55c",
   "metadata": {},
   "source": [
    "# Comparing concentrations plasma eider 2021"
   ]
  },
  {
   "cell_type": "markdown",
   "id": "87ee3097-a58f-4cdf-8519-5dc19fde9a6d",
   "metadata": {},
   "source": [
    "Here we test whether there are statistically significant differences in concentration between early and late incubation within a group (early and late breeders) and between early incubation and late incubation across breeding season. We also test if there is a difference in clutch size (called \"Eggs\" in the script) between the early and late breeders (using the clutch size recorded during our first sampling). "
   ]
  },
  {
   "cell_type": "code",
   "execution_count": null,
   "id": "6c59ebf4-b724-41ff-8e18-2346aa643f20",
   "metadata": {},
   "outputs": [],
   "source": [
    "import pandas as pd\n",
    "import scipy\n",
    "from scipy import stats\n",
    "from scipy.stats import levene\n",
    "import statsmodels.stats.multitest as ssm\n",
    "import statistics"
   ]
  },
  {
   "cell_type": "markdown",
   "id": "17e22038-db5e-4cef-912b-11164e2e3fe8",
   "metadata": {},
   "source": [
    "## Read in file"
   ]
  },
  {
   "cell_type": "code",
   "execution_count": null,
   "id": "94a6a7d7-3b5c-4bff-9c89-2c8c6b7c3ce0",
   "metadata": {},
   "outputs": [],
   "source": [
    "# Read in data file - use the one with LODs replaced\n",
    "\n",
    "allCECs = pd.read_csv('Appropriate file path to plasmaEiderNTNU2021WithLODs.csv')\n",
    "\n",
    "compoundList = [\"BPA\", \"BPS\", \"BzP3\", \"mMP\", \"mEP\", \"Eggs\"]"
   ]
  },
  {
   "cell_type": "markdown",
   "id": "3b724a0d-7948-4231-a984-42415bdd0752",
   "metadata": {},
   "source": [
    "## Divide dataframe into groups"
   ]
  },
  {
   "cell_type": "code",
   "execution_count": null,
   "id": "e8d90fda-5cb2-46e9-b835-305ec7db0540",
   "metadata": {},
   "outputs": [],
   "source": [
    "# Divide into groups (early and late incubation, early and late breeders)\n",
    "\n",
    "# Set dataframe\n",
    "df = allCECs\n",
    "\n",
    "# Early incubation, early & late breeding period\n",
    "earlyInc = df[(df.Incubation == 'early') & (df.BreedingPeriod != 'mid')].reset_index(drop=True)\n",
    "\n",
    "# Late incubation, early & late breeding period\n",
    "lateInc = df[(df.Incubation == 'late') & (df.BreedingPeriod != 'mid')].reset_index(drop=True)\n",
    "\n",
    "# Early breeders\n",
    "earlyBreeders = df[(df.BreedingPeriod == 'early')].reset_index(drop=True)\n",
    "\n",
    "# Late breeders\n",
    "lateBreeders = df[(df.BreedingPeriod == 'late')].reset_index(drop=True)\n",
    "\n",
    "# Early incubation, early breeding period\n",
    "earlyIncEarlyBP = df[(df.Incubation == 'early') & (df.BreedingPeriod == 'early')].reset_index(drop=True)\n",
    "\n",
    "# Early incubation, late breeding period\n",
    "earlyIncLateBP = df[(df.Incubation == 'early') & (df.BreedingPeriod == 'late')].reset_index(drop=True)\n",
    "\n",
    "# Late incubation, early breeding period\n",
    "lateIncEarlyBP = df[(df.Incubation == 'late') & (df.BreedingPeriod == 'early')].reset_index(drop=True)\n",
    "\n",
    "# Late incubation, late breeding period\n",
    "lateIncLateBP = df[(df.Incubation == 'late') & (df.BreedingPeriod == 'late')].reset_index(drop=True)"
   ]
  },
  {
   "cell_type": "markdown",
   "id": "9025f866-99fe-4cd3-8a23-e1d8bce776ec",
   "metadata": {
    "tags": []
   },
   "source": [
    "## Test normality and variance"
   ]
  },
  {
   "cell_type": "code",
   "execution_count": null,
   "id": "df60d202-c404-400b-b094-5aedd949931c",
   "metadata": {},
   "outputs": [],
   "source": [
    "sampleOne = allCECs[(allCECs.PlasmaSample == 1) & (allCECs.BreedingPeriod != 'mid')].reset_index(drop=True)\n",
    "sampleTwo = allCECs[(allCECs.PlasmaSample == 2) & (allCECs.BreedingPeriod != 'mid')].reset_index(drop=True)\n",
    "\n",
    "sampleOneEarlyBreeders = sampleOne[(sampleOne.BreedingPeriod == 'early')].reset_index(drop=True)\n",
    "sampleTwoEarlyBreeders = sampleTwo[(sampleTwo.BreedingPeriod == 'early')].reset_index(drop=True)\n",
    "\n",
    "sampleOneLateBreeders = sampleOne[(sampleOne.BreedingPeriod == 'late')].reset_index(drop=True)\n",
    "sampleTwoLateBreeders = sampleTwo[(sampleTwo.BreedingPeriod == 'late')].reset_index(drop=True)"
   ]
  },
  {
   "cell_type": "code",
   "execution_count": null,
   "id": "9d899dd5-1b94-4120-97a1-ecdc49e991fc",
   "metadata": {},
   "outputs": [],
   "source": [
    "# Early breeders, T1 vs T2:\n",
    "for compound in compoundList:\n",
    "    difference = []\n",
    "    for i in range(len(sampleOneEarlyBreeders)):\n",
    "        diff = (sampleOneEarlyBreeders[compound][i] - sampleTwoEarlyBreeders[compound][i])\n",
    "        difference.append(diff)\n",
    "    if ((round(scipy.stats.shapiro(difference)[1], 2) >= 0.05) & (round(levene(sampleOneEarlyBreeders[compound], sampleTwoEarlyBreeders[compound])[1], 2) >= 0.05)):\n",
    "        print(f\"{compound} is likely normally distributed with equal variance between T1 and T2 for early breeders.\")\n",
    "        \n",
    "# Late breeders, T1 vs T2:\n",
    "for compound in compoundList:\n",
    "    difference = []\n",
    "    for i in range(len(sampleOneLateBreeders)):\n",
    "        diff = (sampleOneLateBreeders[compound][i] - sampleTwoLateBreeders[compound][i])\n",
    "        difference.append(diff)\n",
    "    if ((round(scipy.stats.shapiro(difference)[1], 2) >= 0.05) & (round(levene(sampleOneLateBreeders[compound], sampleTwoLateBreeders[compound])[1], 2) >= 0.05)):\n",
    "        print(f\"{compound} is likely normally distributed with equal variance between T1 and T2 for late breeders.\")\n",
    "        \n",
    "# Early incubation (sample 1/T1):\n",
    "for compound in compoundList:\n",
    "    if ((round(scipy.stats.shapiro(sampleOne[compound])[1], 2) >= 0.05) & (round(levene(sampleOneEarlyBreeders[compound], sampleOneLateBreeders[compound])[1], 2) >= 0.05)):\n",
    "        print(f\"{compound} is likely normally distributed with equal variance between T1 samples for early and late breeders.\")\n",
    "        \n",
    "# Late incubation (sample 2/T2):\n",
    "for compound in compoundList:\n",
    "    if ((round(scipy.stats.shapiro(sampleTwo[compound])[1], 2) >= 0.05) & (round(levene(sampleTwoEarlyBreeders[compound], sampleTwoLateBreeders[compound])[1], 2) >= 0.05)):\n",
    "        print(f\"{compound} is likely normally distributed with equal variance between T2 samples for early and late breeders.\")"
   ]
  },
  {
   "cell_type": "markdown",
   "id": "38aebda9-b7f9-4485-8913-59c5fcc4324d",
   "metadata": {},
   "source": [
    "## Test concentration differences"
   ]
  },
  {
   "cell_type": "markdown",
   "id": "d9830723-f811-434f-9ccf-bf5a28a16527",
   "metadata": {},
   "source": [
    "Based on the Shapiro-Wilk and Levene results: \n",
    "\n",
    "Test BPA differences between paired samples for early and late breeders using parametric test (note that BzP-3 was not above the 60% cut-off for early breeders, so it won't be tested). \n",
    "\n",
    "All other compounds: non-parametric tests.\n",
    "\n",
    "Clutch size at early incubation was normally distributed with equal variance, so test that with parametric test."
   ]
  },
  {
   "cell_type": "markdown",
   "id": "af1ac77a-43d8-4b01-9d4a-8c92df8593cc",
   "metadata": {},
   "source": [
    "### Parametric tests"
   ]
  },
  {
   "cell_type": "code",
   "execution_count": null,
   "id": "46469cb2-3fc7-4ffd-b9e0-9a9bb2a8997d",
   "metadata": {},
   "outputs": [],
   "source": [
    "# Compare incubation stages\n",
    "# Use parametric paired t-test since the data are paired\n",
    "\n",
    "# Only BPA meet test assumptions\n",
    "compoundList = [\"BPA\"]\n",
    "\n",
    "# Early breeders\n",
    "\n",
    "# Create empty vectors to store the values from the for loop\n",
    "pvalues = []\n",
    "statisticalTest = []\n",
    "compoundName = []\n",
    "breedingPeriod = []\n",
    "incubation = []\n",
    "\n",
    "for compound in compoundList:\n",
    "    pvalue = scipy.stats.ttest_rel(earlyIncEarlyBP[compound], lateIncEarlyBP[compound])[1]\n",
    "    pvalues.append(pvalue)\n",
    "    statisticalTest.append(\"paired t-test\")\n",
    "    compoundName.append(compound)\n",
    "    breedingPeriod.append(\"Early\")\n",
    "    incubation.append(\"Both\")\n",
    "    \n",
    "paraCompareIncEarlyBP = pd.DataFrame(zip(compoundName, pvalues, breedingPeriod, incubation, statisticalTest), \n",
    "                                 columns=[\"compound\", \"pvalue\", \"breedingPeriod\", \"incubation\", \"statisticalTest\"])\n",
    "\n",
    "\n",
    "# Late breeders\n",
    "\n",
    "# Create empty vectors to store the values from the for loop\n",
    "pvalues = []\n",
    "statisticalTest = []\n",
    "compoundName = []\n",
    "breedingPeriod = []\n",
    "incubation = []\n",
    "\n",
    "for compound in compoundList:\n",
    "    pvalue = scipy.stats.ttest_rel(earlyIncLateBP[compound], lateIncLateBP[compound])[1]\n",
    "    pvalues.append(pvalue)\n",
    "    statisticalTest.append(\"paired t-test\")\n",
    "    compoundName.append(compound)\n",
    "    breedingPeriod.append(\"Late\")\n",
    "    incubation.append(\"Both\")\n",
    "\n",
    "paraCompareIncLateBP = pd.DataFrame(zip(compoundName, pvalues, breedingPeriod, incubation, statisticalTest), \n",
    "                                 columns=[\"compound\", \"pvalue\", \"breedingPeriod\", \"incubation\", \"statisticalTest\"])"
   ]
  },
  {
   "cell_type": "markdown",
   "id": "cf9a3c93-451a-4a35-8597-6e4a4317c6ef",
   "metadata": {},
   "source": [
    "#### Clutch size"
   ]
  },
  {
   "cell_type": "code",
   "execution_count": null,
   "id": "50057273-dc10-476b-8a34-25f168aa9f39",
   "metadata": {},
   "outputs": [],
   "source": [
    "# Compare clutch size at early incubation between breeding periods\n",
    "\n",
    "# Compound list with only eggs\n",
    "compoundList = [\"Eggs\"]\n",
    "\n",
    "# Create empty vectors to store the values from the for loop\n",
    "pvalues = []\n",
    "statisticalTest = []\n",
    "compoundName = []\n",
    "breedingPeriod = []\n",
    "incubation = []\n",
    "\n",
    "for compound in compoundList:\n",
    "    pvalue = scipy.stats.ttest_ind(earlyIncEarlyBP[compound], earlyIncLateBP[compound])[1]\n",
    "    pvalues.append(pvalue)\n",
    "    statisticalTest.append(\"t-test\")\n",
    "    compoundName.append(compound)\n",
    "    breedingPeriod.append(\"Both\")\n",
    "    incubation.append(\"Early\")\n",
    "    \n",
    "compareBPEggs = pd.DataFrame(zip(compoundName, pvalues, breedingPeriod, incubation, statisticalTest), \n",
    "                                 columns=[\"compound\", \"pvalue\", \"breedingPeriod\", \"incubation\", \"statisticalTest\"])\n",
    "\n",
    "# Late incubation comparison\n",
    "# Not tested"
   ]
  },
  {
   "cell_type": "markdown",
   "id": "d7c8b3f3-a91c-4971-9422-fa7797d74632",
   "metadata": {},
   "source": [
    "### Non-parametric tests"
   ]
  },
  {
   "cell_type": "code",
   "execution_count": null,
   "id": "e1058e11-1d2f-486d-ba4f-a92fa8187eb2",
   "metadata": {},
   "outputs": [],
   "source": [
    "# Compare incubation stages\n",
    "# Use the non-parametric Wilcoxon test since the data are paired\n",
    "\n",
    "# Do not include BPA as a parametric test was used for that compound\n",
    "compoundList = [\"BPS\", \"BzP3\", \"mMP\", \"mEP\"]\n",
    "\n",
    "# Early breeders\n",
    "# No non-parametric test done for comparing paired samples for early breeders as only BPA passed the 60% threshold\n",
    "\n",
    "# Late breeders\n",
    "# Create empty vectors to store the values from the for loop\n",
    "pvalues = []\n",
    "statisticalTest = []\n",
    "compoundName = []\n",
    "breedingPeriod = []\n",
    "incubation = []\n",
    "\n",
    "for compound in compoundList:\n",
    "    pvalue = stats.wilcoxon(earlyIncLateBP[compound], lateIncLateBP[compound], zero_method=\"zsplit\", correction=False)[1]\n",
    "    pvalues.append(pvalue)\n",
    "    statisticalTest.append(\"Wilcoxon\")\n",
    "    compoundName.append(compound)\n",
    "    breedingPeriod.append(\"Late\")\n",
    "    incubation.append(\"Both\")\n",
    "    \n",
    "compareIncLateBP = pd.DataFrame(zip(compoundName, pvalues, breedingPeriod, incubation, statisticalTest), \n",
    "                                 columns=[\"compound\", \"pvalue\", \"breedingPeriod\", \"incubation\", \"statisticalTest\"])"
   ]
  },
  {
   "cell_type": "code",
   "execution_count": null,
   "id": "a17fd944-29ff-467b-ab34-38c364142119",
   "metadata": {},
   "outputs": [],
   "source": [
    "# Compare breeding periods with Mann-Whitney U test\n",
    "\n",
    "# Early incubation comparison\n",
    "\n",
    "# Compound list without mMP and mEP and no BPS as it was not above 60% at T1 for either early nor late breeders\n",
    "compoundList = [\"BPA\", \"BzP3\"]\n",
    "\n",
    "# Create empty vectors to store the values from the for loop\n",
    "pvalues = []\n",
    "statisticalTest = []\n",
    "compoundName = []\n",
    "breedingPeriod = []\n",
    "incubation = []\n",
    "\n",
    "for compound in compoundList:\n",
    "    pvalue = stats.mannwhitneyu(earlyIncEarlyBP[compound], earlyIncLateBP[compound])[1]\n",
    "    pvalues.append(pvalue)\n",
    "    statisticalTest.append(\"Mann-Whitney\")\n",
    "    compoundName.append(compound)\n",
    "    breedingPeriod.append(\"Both\")\n",
    "    incubation.append(\"Early\")\n",
    "    \n",
    "compareBPEarlyInc = pd.DataFrame(zip(compoundName, pvalues, breedingPeriod, incubation, statisticalTest), \n",
    "                                 columns=[\"compound\", \"pvalue\", \"breedingPeriod\", \"incubation\", \"statisticalTest\"])\n",
    "\n",
    "# Late incubation comparison\n",
    "# Compound list without mMP and mEP\n",
    "compoundList = [\"BPA\", \"BPS\", \"BzP3\"]\n",
    "\n",
    "# Create empty vectors to store the values from the for loop\n",
    "pvalues = []\n",
    "statisticalTest = []\n",
    "compoundName = []\n",
    "breedingPeriod = []\n",
    "incubation = []\n",
    "\n",
    "for compound in compoundList:\n",
    "    pvalue = stats.mannwhitneyu(lateIncEarlyBP[compound], lateIncLateBP[compound])[1]\n",
    "    pvalues.append(pvalue)\n",
    "    statisticalTest.append(\"Mann-Whitney\")\n",
    "    compoundName.append(compound)\n",
    "    breedingPeriod.append(\"Both\")\n",
    "    incubation.append(\"Late\")\n",
    "    \n",
    "compareBPLateInc = pd.DataFrame(zip(compoundName, pvalues, breedingPeriod, incubation, statisticalTest), \n",
    "                                 columns=[\"compound\", \"pvalue\", \"breedingPeriod\", \"incubation\", \"statisticalTest\"])"
   ]
  },
  {
   "cell_type": "code",
   "execution_count": null,
   "id": "81dc634c-c7e5-45b4-98d9-5634a66175ed",
   "metadata": {},
   "outputs": [],
   "source": [
    "# Remove NaN values\n",
    "\n",
    "earlyIncLateBP = earlyIncLateBP.dropna()\n",
    "lateIncLateBP = lateIncLateBP.dropna()"
   ]
  },
  {
   "cell_type": "code",
   "execution_count": null,
   "id": "d746b867-8c02-432d-80dc-a6c352114577",
   "metadata": {},
   "outputs": [],
   "source": [
    "# Compare breeding periods with Mann-Whitney U test\n",
    "# Early incubation comparison\n",
    "\n",
    "# Compound list with only mMP and mEP\n",
    "compoundList = [\"mMP\", \"mEP\"]\n",
    "\n",
    "# Create empty vectors to store the values from the for loop\n",
    "pvalues = []\n",
    "statisticalTest = []\n",
    "compoundName = []\n",
    "breedingPeriod = []\n",
    "incubation = []\n",
    "\n",
    "for compound in compoundList:\n",
    "    pvalue = stats.mannwhitneyu(earlyIncEarlyBP[compound], earlyIncLateBP[compound])[1]\n",
    "    pvalues.append(pvalue)\n",
    "    statisticalTest.append(\"Mann-Whitney\")\n",
    "    compoundName.append(compound)\n",
    "    breedingPeriod.append(\"Both\")\n",
    "    incubation.append(\"Early\")\n",
    "    \n",
    "compareBPEarlyIncPMs = pd.DataFrame(zip(compoundName, pvalues, breedingPeriod, incubation, statisticalTest), \n",
    "                                 columns=[\"compound\", \"pvalue\", \"breedingPeriod\", \"incubation\", \"statisticalTest\"])\n",
    "\n",
    "# Late incubation comparison\n",
    "\n",
    "# Create empty vectors to store the values from the for loop\n",
    "pvalues = []\n",
    "statisticalTest = []\n",
    "compoundName = []\n",
    "breedingPeriod = []\n",
    "incubation = []\n",
    "\n",
    "for compound in compoundList:\n",
    "    pvalue = stats.mannwhitneyu(lateIncEarlyBP[compound], lateIncLateBP[compound])[1]\n",
    "    pvalues.append(pvalue)\n",
    "    statisticalTest.append(\"Mann-Whitney\")\n",
    "    compoundName.append(compound)\n",
    "    breedingPeriod.append(\"Both\")\n",
    "    incubation.append(\"Late\")\n",
    "    \n",
    "compareBPLateIncPMs = pd.DataFrame(zip(compoundName, pvalues, breedingPeriod, incubation, statisticalTest), \n",
    "                                 columns=[\"compound\", \"pvalue\", \"breedingPeriod\", \"incubation\", \"statisticalTest\"])"
   ]
  },
  {
   "cell_type": "code",
   "execution_count": null,
   "id": "4d264c62-8249-437b-99f9-a91993a50172",
   "metadata": {},
   "outputs": [],
   "source": [
    "# Merge all the dataframes\n",
    "statTests = pd.concat([paraCompareIncEarlyBP, paraCompareIncLateBP, compareIncLateBP, compareBPEarlyInc, compareBPLateInc, compareBPEarlyIncPMs, compareBPLateIncPMs, compareBPEggs])\n",
    "\n",
    "# Add column with adjusted p-values\n",
    "statTests[\"adjustedPValue\"] = ssm.multipletests(statTests.pvalue, method=\"fdr_bh\")[1]\n",
    "\n",
    "statTests"
   ]
  },
  {
   "cell_type": "code",
   "execution_count": null,
   "id": "d039f325-e09d-411e-b607-12ec99f465a0",
   "metadata": {},
   "outputs": [],
   "source": []
  }
 ],
 "metadata": {
  "kernelspec": {
   "display_name": "Python 3 (ipykernel)",
   "language": "python",
   "name": "python3"
  },
  "language_info": {
   "codemirror_mode": {
    "name": "ipython",
    "version": 3
   },
   "file_extension": ".py",
   "mimetype": "text/x-python",
   "name": "python",
   "nbconvert_exporter": "python",
   "pygments_lexer": "ipython3",
   "version": "3.9.12"
  }
 },
 "nbformat": 4,
 "nbformat_minor": 5
}
