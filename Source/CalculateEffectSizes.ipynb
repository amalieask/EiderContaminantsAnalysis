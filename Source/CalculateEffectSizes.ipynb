{
 "cells": [
  {
   "cell_type": "markdown",
   "id": "3a8301af-d843-4600-85f0-d1530cfc5ca4",
   "metadata": {
    "tags": []
   },
   "source": [
    "# Effect sizes"
   ]
  },
  {
   "cell_type": "markdown",
   "id": "2acda800-ddf3-4837-ab1e-0b7429f8a05f",
   "metadata": {
    "tags": []
   },
   "source": [
    "Standardized effect sizes assume normality and equal variance, which most compounds do not meet. The unstandardized mean difference is thus used as a metric of effect size."
   ]
  },
  {
   "cell_type": "code",
   "execution_count": 1,
   "id": "005d49bf-2102-4a51-9b80-7cb9bbb377a1",
   "metadata": {
    "tags": []
   },
   "outputs": [],
   "source": [
    "import pandas as pd\n",
    "import math"
   ]
  },
  {
   "cell_type": "code",
   "execution_count": 2,
   "id": "2970e8c5-c054-447b-8d88-e0de8e8bfc67",
   "metadata": {
    "tags": []
   },
   "outputs": [],
   "source": [
    "# Read in data files - use the one with LODs replaced\n",
    "\n",
    "allCECs = pd.read_csv('Appropriate file path to plasmaEiderNTNU2021WithLODs.csv')\n",
    "\n",
    "compoundList = [\"BPA\", \"BPS\", \"BzP3\", \"mMP\", \"mEP\", \"Eggs\"]"
   ]
  },
  {
   "cell_type": "code",
   "execution_count": 3,
   "id": "bc441851-bfbe-440e-87cb-9628f5985299",
   "metadata": {},
   "outputs": [],
   "source": [
    "# Divide into groups (early and late incubation, early, and late breeders)\n",
    "\n",
    "# Set dataframe\n",
    "df = allCECs\n",
    "\n",
    "# Early incubation, early & late breeding period\n",
    "earlyInc = df[(df.Incubation == 'early') & (df.BreedingPeriod != 'mid')].reset_index(drop=True)\n",
    "\n",
    "# Late incubation, early & late breeding period\n",
    "lateInc = df[(df.Incubation == 'late') & (df.BreedingPeriod != 'mid')].reset_index(drop=True)\n",
    "\n",
    "# Early breeders\n",
    "earlyBreeders = df[(df.BreedingPeriod == 'early')].reset_index(drop=True)\n",
    "\n",
    "# Late breeders\n",
    "lateBreeders = df[(df.BreedingPeriod == 'late')].reset_index(drop=True)\n",
    "\n",
    "# Early incubation, early breeding period\n",
    "earlyIncEarlyBP = df[(df.Incubation == 'early') & (df.BreedingPeriod == 'early')].reset_index(drop=True)\n",
    "\n",
    "# Early incubation, late breeding period\n",
    "earlyIncLateBP = df[(df.Incubation == 'early') & (df.BreedingPeriod == 'late')].reset_index(drop=True)\n",
    "\n",
    "# Late incubation, early breeding period\n",
    "lateIncEarlyBP = df[(df.Incubation == 'late') & (df.BreedingPeriod == 'early')].reset_index(drop=True)\n",
    "\n",
    "# Late incubation, late breeding period\n",
    "lateIncLateBP = df[(df.Incubation == 'late') & (df.BreedingPeriod == 'late')].reset_index(drop=True)"
   ]
  },
  {
   "cell_type": "code",
   "execution_count": 4,
   "id": "5186e623-e664-4dae-a70e-e9790cf28364",
   "metadata": {},
   "outputs": [],
   "source": [
    "def meanDifference(df1, df2):\n",
    "    for compound in compoundList:\n",
    "        mean1 = df1[compound].describe()[1]\n",
    "        mean2 = df2[compound].describe()[1]\n",
    "        difference = mean2 - mean1\n",
    "        print(f\"Mean difference for {compound} is {difference:.3f}\")"
   ]
  }
 ],
 "metadata": {
  "kernelspec": {
   "display_name": "Python 3 (ipykernel)",
   "language": "python",
   "name": "python3"
  },
  "language_info": {
   "codemirror_mode": {
    "name": "ipython",
    "version": 3
   },
   "file_extension": ".py",
   "mimetype": "text/x-python",
   "name": "python",
   "nbconvert_exporter": "python",
   "pygments_lexer": "ipython3",
   "version": "3.9.12"
  }
 },
 "nbformat": 4,
 "nbformat_minor": 5
}
