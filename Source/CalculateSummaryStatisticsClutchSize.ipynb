{
 "cells": [
  {
   "cell_type": "markdown",
   "id": "f3b8d043-d37c-46d3-8841-340849a15b76",
   "metadata": {},
   "source": [
    "# Clutch sizes - eider plasma 2021"
   ]
  },
  {
   "cell_type": "markdown",
   "id": "2ab26685-adf0-458b-82f5-bdd3f8175a82",
   "metadata": {},
   "source": [
    "Calculate the descriptive statistics for clutch size between early and late breeders.\n",
    "\n",
    "Mean clutch size decreases from T1 to T2 for both early and late breeders (likely due to avian predation), and as maternal transfer is what we're interested in, we use the clutch size at T1!"
   ]
  },
  {
   "cell_type": "code",
   "execution_count": null,
   "id": "449838fb-21ab-443d-a4df-63804085ae96",
   "metadata": {},
   "outputs": [],
   "source": [
    "import pandas as pd\n",
    "import scipy\n",
    "from scipy import stats"
   ]
  },
  {
   "cell_type": "code",
   "execution_count": null,
   "id": "d00d7d9f-fb3a-4bbb-9be9-83f1455fc45d",
   "metadata": {},
   "outputs": [],
   "source": [
    "# Read in data files - use the one with LODs replaced\n",
    "\n",
    "allCECs = pd.read_csv('Appropriate file path to plasmaEiderNTNU2021WithLODs.csv')"
   ]
  },
  {
   "cell_type": "code",
   "execution_count": null,
   "id": "a3f0998b-abb2-4164-885b-1c2dabfb9281",
   "metadata": {},
   "outputs": [],
   "source": [
    "# Divide into groups\n",
    "\n",
    "# Set dataframe\n",
    "df = allCECs\n",
    "\n",
    "# Early incubation, early breeding period\n",
    "earlyIncEarlyBP = df[(df.Incubation == 'early') & (df.BreedingPeriod == 'early')].reset_index(drop=True)\n",
    "\n",
    "# Early incubation, late breeding period\n",
    "earlyIncLateBP = df[(df.Incubation == 'early') & (df.BreedingPeriod == 'late')].reset_index(drop=True)\n",
    "\n",
    "# Late incubation, early breeding period\n",
    "lateIncEarlyBP = df[(df.Incubation == 'late') & (df.BreedingPeriod == 'early')].reset_index(drop=True)\n",
    "\n",
    "# Late incubation, late breeding period\n",
    "lateIncLateBP = df[(df.Incubation == 'late') & (df.BreedingPeriod == 'late')].reset_index(drop=True)"
   ]
  },
  {
   "cell_type": "code",
   "execution_count": null,
   "id": "b65299f9-8bbc-40b3-96b4-8f1b12a998b6",
   "metadata": {},
   "outputs": [],
   "source": [
    "print(\"Mean clutch size early breeders, T1:\", earlyIncEarlyBP[\"Eggs\"].mean(), \"Mean clutch size late breeders, T1:\", earlyIncLateBP[\"Eggs\"].mean())\n",
    "print(\"Mean clutch size early breeders, T2:\", lateIncEarlyBP[\"Eggs\"].mean(), \"Mean clutch size late breeders, T2:\", lateIncLateBP[\"Eggs\"].mean())"
   ]
  }
 ],
 "metadata": {
  "kernelspec": {
   "display_name": "Python 3 (ipykernel)",
   "language": "python",
   "name": "python3"
  },
  "language_info": {
   "codemirror_mode": {
    "name": "ipython",
    "version": 3
   },
   "file_extension": ".py",
   "mimetype": "text/x-python",
   "name": "python",
   "nbconvert_exporter": "python",
   "pygments_lexer": "ipython3",
   "version": "3.9.12"
  }
 },
 "nbformat": 4,
 "nbformat_minor": 5
}
