{
 "cells": [
  {
   "cell_type": "markdown",
   "id": "7734863a-db23-4d41-9d7f-57a7113d9175",
   "metadata": {},
   "source": [
    "# Summary statistics eider 2021 plasma"
   ]
  },
  {
   "cell_type": "markdown",
   "id": "51f11673-32aa-420e-a0eb-47ed4acbab4d",
   "metadata": {},
   "source": [
    "The dataset includes females with paired samples taken in early and late incubation. And there are two group of birds: early and late breeders.\n",
    "\n",
    "Include both summary stats for *only* observations above LOD and summary stats for *all* observations.\n",
    "\n",
    "The mean from the summary stats function taking *all* observations is used for Figure 2 in the article. "
   ]
  },
  {
   "cell_type": "code",
   "execution_count": null,
   "id": "c2d49c1f-199c-4ff3-b775-32ff473fa4b7",
   "metadata": {},
   "outputs": [],
   "source": [
    "import pandas as pd\n",
    "from scipy import stats\n",
    "import math"
   ]
  },
  {
   "cell_type": "markdown",
   "id": "95fdd048-19cd-4720-a67f-80c54b268485",
   "metadata": {},
   "source": [
    "## Read in files"
   ]
  },
  {
   "cell_type": "code",
   "execution_count": null,
   "id": "47182ddb-741d-4440-9016-d45a3b0eff37",
   "metadata": {},
   "outputs": [],
   "source": [
    "# Read in data files\n",
    "\n",
    "allCECs = pd.read_excel('Appropriate file path to Excel file with dataset')\n",
    "allCECsLODReplaced = pd.read_csv('Appropriate file path to plasmaEiderNTNU2021WithLODs.csv')\n",
    "\n",
    "compoundList = pd.read_excel('Appropriate file path to Excel file with dataset', sheet_name = \"compoundList\")\n",
    "compoundList = pd.unique(compoundList[\"compoundList\"])"
   ]
  },
  {
   "cell_type": "markdown",
   "id": "0dde9d50-65b9-4e3a-bf99-e6e480d30603",
   "metadata": {},
   "source": [
    "## Replace NaN with -1"
   ]
  },
  {
   "cell_type": "code",
   "execution_count": null,
   "id": "787cea02-0edf-4b78-a568-0fe946b7c53d",
   "metadata": {},
   "outputs": [],
   "source": [
    "# Replace NaNs with -1 (necessary to do as math.isnan doesn't accept strings as input):\n",
    "allCECs = allCECs.fillna(-1)\n",
    "allCECsLODReplaced = allCECsLODReplaced.fillna(-1)"
   ]
  },
  {
   "cell_type": "markdown",
   "id": "a079301f-a12b-476c-b7d9-e670f2d07f52",
   "metadata": {},
   "source": [
    "## Divide into groups with NaNs replaced"
   ]
  },
  {
   "cell_type": "code",
   "execution_count": null,
   "id": "93ea6cec-631c-4132-96cf-6df71dc5fab9",
   "metadata": {},
   "outputs": [],
   "source": [
    "# Divide into groups (early and late incubation, early and late breeders)\n",
    "\n",
    "# Set dataframe\n",
    "df = allCECs\n",
    "\n",
    "# Early incubation, early & late breeding period\n",
    "earlyInc = df[(df.Incubation == 'early') & (df.BreedingPeriod != 'mid')].reset_index(drop=True)\n",
    "\n",
    "# Late incubation, early & late breeding period\n",
    "lateInc = df[(df.Incubation == 'late') & (df.BreedingPeriod != 'mid')].reset_index(drop=True)\n",
    "\n",
    "# Early incubation, early breeding period\n",
    "earlyIncEarlyBP = df[(df.Incubation == 'early') & (df.BreedingPeriod == 'early')].reset_index(drop=True)\n",
    "\n",
    "# Early incubation, late breeding period\n",
    "earlyIncLateBP = df[(df.Incubation == 'early') & (df.BreedingPeriod == 'late')].reset_index(drop=True)\n",
    "\n",
    "# Late incubation, early breeding period\n",
    "lateIncEarlyBP = df[(df.Incubation == 'late') & (df.BreedingPeriod == 'early')].reset_index(drop=True)\n",
    "\n",
    "# Late incubation, late breeding period\n",
    "lateIncLateBP = df[(df.Incubation == 'late') & (df.BreedingPeriod == 'late')].reset_index(drop=True)"
   ]
  },
  {
   "cell_type": "code",
   "execution_count": null,
   "id": "96ac2ef0-2408-423b-b419-51814ac4b721",
   "metadata": {},
   "outputs": [],
   "source": [
    "# Divide into groups for dataset with LOD replaced:\n",
    "\n",
    "# Set dataframe\n",
    "df = allCECsLODReplaced\n",
    "\n",
    "# Early incubation, early & late breeding period\n",
    "earlyIncLOD = df[(df.Incubation == 'early') & (df.BreedingPeriod != 'mid')].reset_index(drop=True)\n",
    "\n",
    "# Late incubation, early & late breeding period\n",
    "lateIncLOD = df[(df.Incubation == 'late') & (df.BreedingPeriod != 'mid')].reset_index(drop=True)\n",
    "\n",
    "# Early incubation, early breeding period\n",
    "earlyIncEarlyBPLOD = df[(df.Incubation == 'early') & (df.BreedingPeriod == 'early')].reset_index(drop=True)\n",
    "\n",
    "# Early incubation, late breeding period\n",
    "earlyIncLateBPLOD = earlyIncLateBP = df[(df.Incubation == 'early') & (df.BreedingPeriod == 'late')].reset_index(drop=True)\n",
    "\n",
    "# Late incubation, early breeding period\n",
    "lateIncEarlyBPLOD = df[(df.Incubation == 'late') & (df.BreedingPeriod == 'early')].reset_index(drop=True)\n",
    "\n",
    "# Late incubation, late breeding period\n",
    "lateIncLateBPLOD = df[(df.Incubation == 'late') & (df.BreedingPeriod == 'late')].reset_index(drop=True)"
   ]
  },
  {
   "cell_type": "markdown",
   "id": "ff476d6e-fdff-433f-a91a-f9c7977c9a87",
   "metadata": {},
   "source": [
    "## Summary statistics function"
   ]
  },
  {
   "cell_type": "code",
   "execution_count": null,
   "id": "d4ab907b-7851-45e0-a412-43d34e0a7332",
   "metadata": {},
   "outputs": [],
   "source": [
    "# Use dataset with LODs replaced with 1/2LOD\n",
    "\n",
    "def summaryStatisticsAllObs(compoundList, dataSet):\n",
    "    for compoundName in compoundList:\n",
    "        NAcount = 0\n",
    "        notNA = []\n",
    "        for sample in dataSet[compoundName]:\n",
    "            if (sample == -1):\n",
    "                NAcount += 1\n",
    "            else:\n",
    "                notNA.append(sample)\n",
    "        notNA = pd.Series(notNA, dtype = 'float64')\n",
    "        print(\"***************\", compoundName, \"***************\")\n",
    "        print(f\"The number of NaN observations is {NAcount}\")\n",
    "        print(f\"Mean, all: {notNA.describe()[1]:.3f}\")\n",
    "        print(f\"Geometric mean, all: {stats.gmean(notNA):.3f}\")\n",
    "        print(f\"Median, all: {notNA.median():.3f}\")\n",
    "        print(f\"Min, all: {notNA.describe()[3]:.3f}\")\n",
    "        print(f\"Max, all: {notNA.describe()[7]:.3f}\")\n",
    "        print(f\"SD, all: {notNA.describe()[2]:.3f}\")\n",
    "        print(f\"SE, all: {notNA.sem():.3f}\")"
   ]
  },
  {
   "cell_type": "code",
   "execution_count": null,
   "id": "5203ddc8-3093-4651-9f6b-af9b3a722ffb",
   "metadata": {},
   "outputs": [],
   "source": [
    "def summaryStatisticsAboveLOD(compoundList, dataSet):\n",
    "    for compoundName in compoundList:\n",
    "        count = 0\n",
    "        LODcount = 0\n",
    "        NAcount = 0\n",
    "        overLOD = []\n",
    "        for sample in dataSet[compoundName]:\n",
    "            if ((sample != \"lod\") & (sample != -1)):\n",
    "                count += 1\n",
    "                overLOD.append(sample)\n",
    "            elif (sample == -1):\n",
    "                NAcount += 1\n",
    "            else:\n",
    "                LODcount += 1\n",
    "        overLOD = pd.Series(overLOD, dtype = 'float64')\n",
    "        print(\"***************\", compoundName, \"***************\")\n",
    "        print(f\"The number of observations above LOD is {count}\")\n",
    "        print(f\"The number of observations below LOD is {LODcount}\")\n",
    "        print(f\"The number of NaN observations is {NAcount}\")\n",
    "        print(f\"Mean, above LOD: {overLOD.describe()[1]:.3f}\")\n",
    "        print(f\"Geometric mean, above LOD: {stats.gmean(overLOD):.3f}\")\n",
    "        print(f\"Median, above LOD: {overLOD.median():.3f}\")\n",
    "        print(f\"Min, above LOD: {overLOD.describe()[3]:.3f}\")\n",
    "        print(f\"Max, above LOD: {overLOD.describe()[7]:.3f}\")\n",
    "        print(f\"SD, above LOD: {overLOD.describe()[2]:.3f}\")\n",
    "        print(f\"SE, above LOD: {overLOD.sem():.3f}\")"
   ]
  },
  {
   "cell_type": "code",
   "execution_count": null,
   "id": "cef2ada3-4319-483a-8dbd-fa8169d32ab5",
   "metadata": {},
   "outputs": [],
   "source": [
    "summaryStatistics(compoundList, earlyIncLateBP)"
   ]
  },
  {
   "cell_type": "code",
   "execution_count": null,
   "id": "c361cbaf-72eb-4c76-b655-e3e2000862a7",
   "metadata": {},
   "outputs": [],
   "source": [
    "summaryStatistics(compoundList, lateIncLateBP)"
   ]
  }
 ],
 "metadata": {
  "kernelspec": {
   "display_name": "Python 3 (ipykernel)",
   "language": "python",
   "name": "python3"
  },
  "language_info": {
   "codemirror_mode": {
    "name": "ipython",
    "version": 3
   },
   "file_extension": ".py",
   "mimetype": "text/x-python",
   "name": "python",
   "nbconvert_exporter": "python",
   "pygments_lexer": "ipython3",
   "version": "3.9.12"
  }
 },
 "nbformat": 4,
 "nbformat_minor": 5
}
